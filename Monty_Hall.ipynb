{
  "cells": [
    {
      "cell_type": "markdown",
      "metadata": {
        "id": "view-in-github",
        "colab_type": "text"
      },
      "source": [
        "<a href=\"https://colab.research.google.com/github/smartyAe/My-all-data-science-learning-exercises-and-projects/blob/main/Monty_Hall.ipynb\" target=\"_parent\"><img src=\"https://colab.research.google.com/assets/colab-badge.svg\" alt=\"Open In Colab\"/></a>"
      ]
    },
    {
      "cell_type": "code",
      "execution_count": 2,
      "metadata": {
        "id": "XHRG6POzaBda"
      },
      "outputs": [],
      "source": [
        "%matplotlib inline\n",
        "from random import randint, shuffle, choice\n",
        "import matplotlib.pyplot as plt\n",
        "import numpy as np"
      ]
    },
    {
      "cell_type": "code",
      "execution_count": 29,
      "metadata": {
        "id": "uH6zhbThESAn"
      },
      "outputs": [],
      "source": [
        "def playgame(changeChoice):\n",
        "  portes=[1,2,3]\n",
        "  bonchoix=randint(0,2)\n",
        "  choix1=randint(0,2)\n",
        "  \n",
        "  portes.remove(portes[choix1])\n",
        "  if choix1==bonchoix:\n",
        "    portes.remove(portes[randint(0,1)])\n",
        "  else:\n",
        "    portes=[bonchoix]\n",
        "  choix2=0\n",
        "  if changeChoice==0:\n",
        "    choix2=choix1\n",
        "  elif changeChoice==1:\n",
        "    choix2=portes[0]\n",
        "  elif changeChoice==2:\n",
        "    choix2=choice([portes[0],choix1])\n",
        "  return choix2==bonchoix\n",
        "\n"
      ]
    },
    {
      "cell_type": "code",
      "execution_count": 30,
      "metadata": {
        "id": "dzMRYK77a5eT"
      },
      "outputs": [],
      "source": [
        "def play(change,nb_parties):\n",
        "  return [1 if playgame(change) else 0 for i in range(nb_parties)]\n",
        "\n"
      ]
    },
    {
      "cell_type": "code",
      "source": [
        "plt.bar([1,2,3],[sum(play(0,1000)),sum(play(1,1000)),sum(play(2,1000))], tick_label=[\"Garder\",\"Changer\",\"random\"])"
      ],
      "metadata": {
        "colab": {
          "base_uri": "https://localhost:8080/",
          "height": 282
        },
        "id": "FNOdRtSEZCDz",
        "outputId": "754257b5-e4c4-457b-e424-1989875d6c5b"
      },
      "execution_count": 31,
      "outputs": [
        {
          "output_type": "execute_result",
          "data": {
            "text/plain": [
              "<BarContainer object of 3 artists>"
            ]
          },
          "metadata": {},
          "execution_count": 31
        },
        {
          "output_type": "display_data",
          "data": {
            "text/plain": [
              "<Figure size 432x288 with 1 Axes>"
            ],
            "image/png": "[encoded data removed]"
          },
          "metadata": {
            "needs_background": "light"
          }
        }
      ]
    },
    {
      "cell_type": "code",
      "execution_count": 19,
      "metadata": {
        "id": "slBwafhx9Byo"
      },
      "outputs": [],
      "source": [
        ""
      ]
    },
    {
      "cell_type": "code",
      "source": [
        "gains_changer = []\n",
        "gains_garder = []\n",
        "gains_random = []\n",
        "samples =  [1000, 10000, 20000, 50000, 80000, 100000]\n",
        "for tours in samples:\n",
        "    gains_changer.append(play(1, tours))\n",
        "    gains_garder.append(play(0, tours))\n",
        "    gains_random.append(play(2,tours))"
      ],
      "metadata": {
        "id": "9NCzIFmMWmSk"
      },
      "execution_count": 32,
      "outputs": []
    },
    {
      "cell_type": "code",
      "source": [
        "plt.scatter(samples,[sum(x) for x in gains_changer])\n",
        "plt.scatter(samples,[ sum(x) for x in gains_garder])\n",
        "plt.scatter(samples,[ sum(x) for x in gains_random])"
      ],
      "metadata": {
        "colab": {
          "base_uri": "https://localhost:8080/",
          "height": 283
        },
        "id": "RoKhpPOx-4sh",
        "outputId": "d2f1405f-75fc-4693-b911-efda82db45b9"
      },
      "execution_count": 33,
      "outputs": [
        {
          "output_type": "execute_result",
          "data": {
            "text/plain": [
              "<matplotlib.collections.PathCollection at 0x7f92d7ec1850>"
            ]
          },
          "metadata": {},
          "execution_count": 33
        },
        {
          "output_type": "display_data",
          "data": {
            "text/plain": [
              "<Figure size 432x288 with 1 Axes>"
            ],
            "image/png": "[encoded data removed]"
          },
          "metadata": {
            "needs_background": "light"
          }
        }
      ]
    },
    {
      "cell_type": "code",
      "source": [
        "plt.scatter(samples,[sum(x)/i for x,i in zip(gains_changer,samples)])\n",
        "plt.scatter(samples,[sum(x)/i for x,i in zip(gains_garder,samples)])\n",
        "plt.scatter(samples,[sum(x)/i for x,i in zip(gains_random,samples)])\n",
        "plt.show()"
      ],
      "metadata": {
        "colab": {
          "base_uri": "https://localhost:8080/",
          "height": 265
        },
        "id": "29K0QVcb_-5L",
        "outputId": "581ce9fa-62a1-43b9-d679-46358aa02941"
      },
      "execution_count": 34,
      "outputs": [
        {
          "output_type": "display_data",
          "data": {
            "text/plain": [
              "<Figure size 432x288 with 1 Axes>"
            ],
            "image/png": "[encoded data removed]"
          },
          "metadata": {
            "needs_background": "light"
          }
        }
      ]
    }
  ],
  "metadata": {
    "colab": {
      "collapsed_sections": [],
      "name": "Untitled6.ipynb",
      "provenance": [],
      "authorship_tag": "ABX9TyNIkRSMS0zicy8kAyYCVvK+",
      "include_colab_link": true
    },
    "kernelspec": {
      "display_name": "Python 3",
      "name": "python3"
    },
    "language_info": {
      "name": "python"
    }
  },
  "nbformat": 4,
  "nbformat_minor": 0
}