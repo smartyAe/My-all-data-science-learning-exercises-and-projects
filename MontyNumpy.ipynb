{
  "nbformat": 4,
  "nbformat_minor": 0,
  "metadata": {
    "colab": {
      "name": "MontyNumpy.ipynb",
      "provenance": [],
      "authorship_tag": "ABX9TyNz6mBkr1RmIvhqyuf3so+E",
      "include_colab_link": true
    },
    "kernelspec": {
      "name": "python3",
      "display_name": "Python 3"
    },
    "language_info": {
      "name": "python"
    }
  },
  "cells": [
    {
      "cell_type": "markdown",
      "metadata": {
        "id": "view-in-github",
        "colab_type": "text"
      },
      "source": [
        "<a href=\"https://colab.research.google.com/github/smartyAe/My-all-data-science-learning-exercises-and-projects/blob/main/MontyNumpy.ipynb\" target=\"_parent\"><img src=\"https://colab.research.google.com/assets/colab-badge.svg\" alt=\"Open In Colab\"/></a>"
      ]
    },
    {
      "cell_type": "code",
      "execution_count": 2,
      "metadata": {
        "id": "WltKdKYOn9nW"
      },
      "outputs": [],
      "source": [
        "import numpy as np\n",
        "import matplotlib.pyplot as plt\n",
        "import math"
      ]
    },
    {
      "cell_type": "code",
      "source": [
        "def montyhall(strat,nbtour):\n",
        "  gain=np.zeros(nbtour)\n",
        "  for i in range(nbtour):\n",
        "    portes=[1,2,3]\n",
        "    bPorte=np.random.randint(0,2)\n",
        "    choix1=np.random.randint(0,2)\n",
        "    portes.remove(portes[choix1])\n",
        "    choix2=0\n",
        "    if strat==0:\n",
        "      choix2=choix1\n",
        "    else:\n",
        "      if choix1==bPorte:\n",
        "        choix2=np.random.randint(0,1)\n",
        "      else:\n",
        "        choix2=bPorte\n",
        "    if choix2==bPorte:\n",
        "      gain[i]=1\n",
        "  return np.sum(gain)\n",
        "      "
      ],
      "metadata": {
        "id": "nK_ndfJ7oPYl"
      },
      "execution_count": 35,
      "outputs": []
    },
    {
      "cell_type": "code",
      "source": [
        "\n",
        "plt.bar([1,2],[montyhall(0,100),montyhall(1,100)], tick_label=[\"garder\",\"changer\"])"
      ],
      "metadata": {
        "colab": {
          "base_uri": "https://localhost:8080/",
          "height": 282
        },
        "id": "JtJMtV4_jk6Z",
        "outputId": "07d31722-2535-4735-fc98-1e4280bd474c"
      },
      "execution_count": 45,
      "outputs": [
        {
          "output_type": "execute_result",
          "data": {
            "text/plain": [
              "<BarContainer object of 2 artists>"
            ]
          },
          "metadata": {},
          "execution_count": 45
        },
        {
          "output_type": "display_data",
          "data": {
            "text/plain": [
              "<Figure size 432x288 with 1 Axes>"
            ],
            "image/png": "[encoded data removed]"
          },
          "metadata": {
            "needs_background": "light"
          }
        }
      ]
    },
    {
      "cell_type": "code",
      "source": [
        "samples =  [1000, 10000, 20000, 50000, 80000, 100000]\n",
        "plt.scatter(samples, [montyhall(0,x) for x in samples])\n",
        "plt.scatter(samples, [montyhall(1,x) for x in samples])"
      ],
      "metadata": {
        "colab": {
          "base_uri": "https://localhost:8080/",
          "height": 282
        },
        "id": "M9znCgTld9QK",
        "outputId": "04ea6df7-0365-4b71-9671-981802bfc2b2"
      },
      "execution_count": 48,
      "outputs": [
        {
          "output_type": "execute_result",
          "data": {
            "text/plain": [
              "<matplotlib.collections.PathCollection at 0x7fcd6aa8ead0>"
            ]
          },
          "metadata": {},
          "execution_count": 48
        },
        {
          "output_type": "display_data",
          "data": {
            "text/plain": [
              "<Figure size 432x288 with 1 Axes>"
            ],
            "image/png": "[encoded data removed]"
          },
          "metadata": {
            "needs_background": "light"
          }
        }
      ]
    },
    {
      "cell_type": "code",
      "source": [
        ""
      ],
      "metadata": {
        "id": "u34eHLpKpYG8"
      },
      "execution_count": 48,
      "outputs": []
    },
    {
      "cell_type": "code",
      "source": [
        ""
      ],
      "metadata": {
        "id": "Mng25Kz9xf2F"
      },
      "execution_count": null,
      "outputs": []
    }
  ]
}